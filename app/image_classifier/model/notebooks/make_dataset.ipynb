{
 "cells": [
  {
   "cell_type": "code",
   "execution_count": 3,
   "metadata": {},
   "outputs": [],
   "source": [
    "import cv2\n",
    "import os\n",
    "import uuid\n",
    "import glob"
   ]
  },
  {
   "cell_type": "code",
   "execution_count": 15,
   "metadata": {},
   "outputs": [],
   "source": [
    "DATA_FOLDER = os.path.abspath('') + '/../data/'\n",
    "\n",
    "def get_file_name(label):\n",
    "    return DATA_FOLDER+label+'/', str(uuid.uuid1())+'.jpg'\n",
    "    \n",
    "def record(label='Unsorted'):\n",
    "    cap = cv2.VideoCapture(0)\n",
    "    try:\n",
    "        while(True):\n",
    "            # Capture frame-by-frame\n",
    "            ret, frame = cap.read()\n",
    "\n",
    "            # Our operations on the frame come here\n",
    "            gray = cv2.cvtColor(frame, cv2.COLOR_BGR2GRAY)\n",
    "\n",
    "            scale_percent = 10 # percent of original size\n",
    "            width = int(gray.shape[1] * scale_percent / 100)\n",
    "            height = int(gray.shape[0] * scale_percent / 100)\n",
    "            dim = (width, height)\n",
    "            gray = cv2.resize(gray, dim)\n",
    "\n",
    "            # Display the resulting frame\n",
    "            cv2.imshow('frame',gray)\n",
    "\n",
    "            key = cv2.waitKey(1)\n",
    "            if key == 0x1b: # ESC\n",
    "                print('ESC pressed. Exiting ...')\n",
    "                break\n",
    "            elif key & 0xFF == ord('s'):\n",
    "                folder, file = get_file_name(label=label)\n",
    "                os.makedirs(folder, exist_ok=True)\n",
    "                cv2.imwrite(folder+file, gray)\n",
    "    finally:\n",
    "        cap.release()\n",
    "        cv2.destroyAllWindows()"
   ]
  },
  {
   "cell_type": "code",
   "execution_count": null,
   "metadata": {},
   "outputs": [],
   "source": [
    "record(label='negatives')"
   ]
  },
  {
   "cell_type": "code",
   "execution_count": 36,
   "metadata": {},
   "outputs": [
    {
     "name": "stdout",
     "output_type": "stream",
     "text": [
      "total of 142 samples\n",
      "2 classes \n",
      "70 in class positives\n",
      "72 in class negatives\n"
     ]
    }
   ],
   "source": [
    "print(f'total of {len(glob.glob(DATA_FOLDER+\"*/*.jpg\"))} samples')\n",
    "classes = glob.glob(DATA_FOLDER+'*/')\n",
    "print(f'{len(classes)} classes ')\n",
    "for class_ in classes:\n",
    "    class_name = os.path.dirname(class_)\n",
    "    print(f'{len(glob.glob(class_name + \"/*.jpg\"))} in class {os.path.split(class_name)[1]}')"
   ]
  }
 ],
 "metadata": {
  "kernelspec": {
   "display_name": "Python (tf2)",
   "language": "python",
   "name": "tf2"
  },
  "language_info": {
   "codemirror_mode": {
    "name": "ipython",
    "version": 3
   },
   "file_extension": ".py",
   "mimetype": "text/x-python",
   "name": "python",
   "nbconvert_exporter": "python",
   "pygments_lexer": "ipython3",
   "version": "3.7.7"
  }
 },
 "nbformat": 4,
 "nbformat_minor": 4
}
